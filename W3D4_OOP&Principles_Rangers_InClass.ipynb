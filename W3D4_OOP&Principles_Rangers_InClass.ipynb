{
 "cells": [
  {
   "cell_type": "markdown",
   "metadata": {},
   "source": [
    " <h1 align = center> Principles of Object Oriented Programming </h1>"
   ]
  },
  {
   "cell_type": "markdown",
   "metadata": {},
   "source": [
    "#### 4 principles\n",
    "- Encapsulation\n",
    "- Inheritance\n",
    "- Polymorphism\n",
    "- Abstraction\n"
   ]
  },
  {
   "cell_type": "markdown",
   "metadata": {},
   "source": [
    "## ENCAPSULATION"
   ]
  },
  {
   "cell_type": "markdown",
   "metadata": {},
   "source": [
    "In encapsulation, the variables of a class can be made hidden from other classes, and can be accessed only through the methods of their current class. Therefore, it is also known as data hiding.\n",
    "<br><br>\n",
    "Encapsulation can be described as a protective barrier that prevents the code and data being randomly accessed by other code defined outside the class. Access to the data and code is tightly controlled by a class."
   ]
  },
  {
   "cell_type": "code",
   "execution_count": 7,
   "metadata": {},
   "outputs": [],
   "source": [
    "from datetime import timedelta, date\n",
    "from IPython.display import Image\n",
    "import requests\n",
    "from time import sleep\n",
    "\n",
    "generic_image = 'codeflix.png'\n"
   ]
  },
  {
   "cell_type": "code",
   "execution_count": 5,
   "metadata": {},
   "outputs": [],
   "source": [
    "#access mods give differing levels of protections.  Public, private(__) and protected (_)\n",
    "# but in general wrapping your data and methods inside of a class has some level of protection\n",
    "\n",
    "class MyVideo():\n",
    "\n",
    "    def __init__(self, title, description, length, preview, genre, cast, view_size, rating):\n",
    "        self.title = title\n",
    "        self.desc = description\n",
    "        self.len = length\n",
    "        self.prev = preview\n",
    "        self.gen = genre\n",
    "        self.cast = cast\n",
    "        self.vs = view_size\n",
    "        self.rating = rating\n",
    "\n",
    "    def view_cast(self):\n",
    "        print(f'The description for {self.title}: {self.cast}')\n",
    "\n",
    "    def view_desc(self):\n",
    "        print(f'The description for {self.title}: {self.desc}')\n",
    "\n",
    "    def view_stats(self):\n",
    "        print(f'Here are the stats for{self.title}: \\n {self.genre} \\n {self.rating} \\n {self.len}')\n",
    "\n",
    "    def watch_preview(self):\n",
    "        print(F'Here is the preview for {self.title}')\n",
    "        # play preview video\n",
    "\n",
    "    def __repr__(self):\n",
    "        return f'Deez nuts'\n",
    "\n"
   ]
  },
  {
   "cell_type": "code",
   "execution_count": 6,
   "metadata": {},
   "outputs": [
    {
     "name": "stdout",
     "output_type": "stream",
     "text": [
      "Here are the stats forWillow: \n",
      " 3.9 \n",
      " 3.9 \n",
      " 2.5 hours\n"
     ]
    }
   ],
   "source": [
    "\n",
    "alex_video = MyVideo('Willow', 'group of crazy characters needs to save the baby from the evil queen', '2.5 hours',                    False, 'Fantasy', ['Guy1','Gal1'], 'Large', 3.9)\n",
    "alex_video.view_stats()\n",
    "\n"
   ]
  },
  {
   "cell_type": "code",
   "execution_count": 24,
   "metadata": {},
   "outputs": [],
   "source": [
    "class Video():\n",
    "\n",
    "    def __init__(self):\n",
    "        self.title = None\n",
    "        self.length = timedelta()\n",
    "        self.link = generic_image\n",
    "\n",
    "    def play(self):\n",
    "        print(f'Now playing {self.title}')\n",
    "        display(Image(self.link))\n",
    "\n",
    "    def __len__(self):\n",
    "        return self.length\n",
    "\n",
    "    def __repr__(self):\n",
    "        return f\"{self.title} is {self.length.seconds} seconds long\"\n",
    "\n",
    "    "
   ]
  },
  {
   "cell_type": "markdown",
   "metadata": {},
   "source": [
    "## INHERITANCE"
   ]
  },
  {
   "cell_type": "markdown",
   "metadata": {},
   "source": [
    "Inheritance can be defined as the process where one class acquires the properties (methods and fields) of another.\n",
    "<br>\n",
    "<i>(see above)</i>"
   ]
  },
  {
   "cell_type": "code",
   "execution_count": 25,
   "metadata": {},
   "outputs": [],
   "source": [
    "# parent classes aka base classes that child classes aka derived classes can inherit\n",
    "\n",
    "class Episode(Video):\n",
    "    \n",
    "    def __init__(self, data):\n",
    "        Video.__init__(self)\n",
    "        self.number = data['number']\n",
    "        self.season = data['season']\n",
    "        self.date_aired = data['airdate']\n",
    "        self.summary = data['summary']\n",
    "        self.rating = data['rating']['average']\n",
    "        self.title = data['name']\n",
    "        self.length = timedelta(minutes = data['runtime'])\n",
    "        if data['image']:\n",
    "            self.link = data['image']['medium']\n",
    "\n",
    "        \n",
    "\n",
    "    \n"
   ]
  },
  {
   "cell_type": "markdown",
   "metadata": {},
   "source": [
    "## POLYMORPHISM"
   ]
  },
  {
   "cell_type": "markdown",
   "metadata": {},
   "source": [
    "In object-oriented programming, polymorphism (from the Greek meaning “having multiple forms”) is the characteristic of being able to assign a different meaning or usage to something in different contexts — specifically, to allow an entity such as a function, or an object to have more than one form.\n",
    "<br><br>\n"
   ]
  },
  {
   "cell_type": "code",
   "execution_count": 48,
   "metadata": {},
   "outputs": [],
   "source": [
    "class Series():\n",
    "    \n",
    "    def __init__(self):\n",
    "        self.id = None\n",
    "        self.network = None\n",
    "        self.seasons = None\n",
    "        self.summary = None\n",
    "        self.title = None\n",
    "        self.genres = []\n",
    "        self.episodes = []\n",
    "        \n",
    "        \n",
    "    def get_info(self, query=\"\"):\n",
    "        data = None #in case we can't find the show \n",
    "        \n",
    "        while not data:\n",
    "            if not query:\n",
    "                query = input('What is the name of the series? ')\n",
    "                \n",
    "            response = requests.get(f'https://api.tvmaze.com/singlesearch/shows?q={query}')\n",
    "            if response.status_code == 200:\n",
    "                data = response.json()\n",
    "                \n",
    "            else:\n",
    "                print(\"Series Error: Series does not exist, check your series name\", response.status_code) #should come back 404\n",
    "            \n",
    "        #use data to set our series attributes\n",
    "        self.id = data['id']\n",
    "        self.title = data['name']\n",
    "        self.genres = data['genres']\n",
    "        if data['network']:\n",
    "            self.network = data['network']['name']\n",
    "        else:\n",
    "            self.network = data['webChannel']['name']\n",
    "        self.summary = data['summary']\n",
    "        \n",
    "        episodes = None \n",
    "        response = requests.get(f'https://api.tvmaze.com/shows/{self.id}/episodes')\n",
    "        if response.status_code == 200:\n",
    "            episodes = response.json()\n",
    "        else:\n",
    "            print(f\"Episode Error: Episodes do not exist on this series, check your series name\", response.status_code)\n",
    "\n",
    "\n",
    "        self.seasons = episodes[-1]['season']\n",
    "        self.episodes = [Episode(ep) for ep in episodes] #this is passing the entire episode dictionary to Episode() class\n",
    "        print(f\"{self.title} has {len(self.episodes)} episodes!\")\n",
    "        \n",
    "        \n",
    "    def watch(self):\n",
    "        \n",
    "        for i in range(len(self.episodes)):\n",
    "            if i > 0 and i % 3 == 0:\n",
    "                watching = input(\"Are you still watching? also get a job! y/n \")\n",
    "                if watching.lower().strip() not in {'yes', 'y', 'yeah', 'oh yeah', 'ye'}:\n",
    "                    break\n",
    "            self.episodes[i].play()\n",
    "            sleep(self.episodes[i].length.seconds/1000)\n",
    "            \n",
    "            \n",
    "    def __len__(self):\n",
    "        return len(self.episodes)\n",
    "    \n",
    "    \n",
    "    def __repr__(self):\n",
    "        return f\"Title: {self.title}\""
   ]
  },
  {
   "cell_type": "code",
   "execution_count": 21,
   "metadata": {},
   "outputs": [],
   "source": [
    "my_show = Series()"
   ]
  },
  {
   "cell_type": "code",
   "execution_count": 26,
   "metadata": {},
   "outputs": [
    {
     "name": "stdin",
     "output_type": "stream",
     "text": [
      "What is the name of the series?  big brother\n"
     ]
    },
    {
     "name": "stdout",
     "output_type": "stream",
     "text": [
      "Big Brother has 874 episodes!\n"
     ]
    }
   ],
   "source": [
    "my_show.get_info()"
   ]
  },
  {
   "cell_type": "code",
   "execution_count": 27,
   "metadata": {},
   "outputs": [
    {
     "name": "stdout",
     "output_type": "stream",
     "text": [
      "Now playing Episode 1\n"
     ]
    },
    {
     "data": {
      "image/jpeg": "[encoded data removed]",
      "text/plain": [
       "<IPython.core.display.Image object>"
      ]
     },
     "metadata": {},
     "output_type": "display_data"
    },
    {
     "name": "stdout",
     "output_type": "stream",
     "text": [
      "Now playing Episode 2\n"
     ]
    },
    {
     "data": {
      "image/jpeg": "[encoded data removed]",
      "text/plain": [
       "<IPython.core.display.Image object>"
      ]
     },
     "metadata": {},
     "output_type": "display_data"
    },
    {
     "name": "stdout",
     "output_type": "stream",
     "text": [
      "Now playing Episode 3\n"
     ]
    },
    {
     "data": {
      "image/jpeg": "[encoded data removed]",
      "text/plain": [
       "<IPython.core.display.Image object>"
      ]
     },
     "metadata": {},
     "output_type": "display_data"
    },
    {
     "name": "stdin",
     "output_type": "stream",
     "text": [
      "Are you still watching? also get a job! y/n  n\n"
     ]
    }
   ],
   "source": [
    "my_show.watch()"
   ]
  },
  {
   "cell_type": "code",
   "execution_count": 49,
   "metadata": {},
   "outputs": [],
   "source": [
    "class User():\n",
    "\n",
    "    #access modifiers give different levels of security to attributes and methods\n",
    "    __id_counter = 1 # private class attribute\n",
    "\n",
    "    def __init__(self, username, password):\n",
    "        self.username = username\n",
    "        self.password = password[::-2]\n",
    "        self.id = User.__id_counter\n",
    "        User.__id_counter += 1\n",
    "        self.watch_list = []\n",
    "\n",
    "    def __str__(self):\n",
    "        formatted_user = f\"\"\"\n",
    "        {self.id} - {self.username.title()}\n",
    "        pw: {self.password}\n",
    "        \"\"\"\n",
    "\n",
    "        return formatted_user\n",
    "\n",
    "    def __repr__(self):\n",
    "        return f'<User {self.id} | {self.username}>'\n",
    "\n",
    "    def check_pass(self, password_guess):\n",
    "        return self.password == password_guess[::-2]\n",
    "        "
   ]
  },
  {
   "cell_type": "markdown",
   "metadata": {},
   "source": [
    "## ABSTRACTION"
   ]
  },
  {
   "cell_type": "markdown",
   "metadata": {},
   "source": [
    "Abstraction is a process of hiding the implementation details from the user, only the functionality will be provided to the user. We have a bit to do before this becomes visible. But you've seen it before with presenting the user with the option to enter inputs. We then take those input and do something with them.\n",
    "<br><br>"
   ]
  },
  {
   "cell_type": "code",
   "execution_count": 50,
   "metadata": {},
   "outputs": [],
   "source": [
    "class Theater():\n",
    "    \n",
    "    def __init__(self):\n",
    "        self.users = set()\n",
    "        self.current_user = None \n",
    "        \n",
    "        \n",
    "    #add a user\n",
    "    def add_user(self):\n",
    "        username = input(\"Please enter a username: \")\n",
    "        \n",
    "        username_set = set()\n",
    "                        \n",
    "        if username in {u.username for u in self.users}: #u is a variable represents each user object\n",
    "            print(\"User with that name already exists. Please try again!\", 409) #409 error, conflict in request \n",
    "            \n",
    "        else:\n",
    "            password = input(\"Please enter a password: \")\n",
    "            user = User(username, password) #user object\n",
    "            self.users.add(user) #adding that object to the users list\n",
    "            print(f\"{user} has been created!!!\")\n",
    "            \n",
    "        self.login_user()\n",
    "        \n",
    "        \n",
    "        \n",
    "    #login our users\n",
    "    def login_user(self):\n",
    "        print(\"Log into your account\")\n",
    "        username = input(\"What is your username? \")\n",
    "        password = input(\"What is your password? \")\n",
    "        \n",
    "        for user in self.users:\n",
    "            if user.username == username and user.check_pass(password):\n",
    "                self.current_user = user\n",
    "                print(f\"{user} is logged in!\")\n",
    "                break\n",
    "            \n",
    "        else:\n",
    "            print(\"Username and/or password is incorrect\", 409) #409 error, conflict in request \n",
    "            \n",
    "    #logout our users\n",
    "    def logout(self):\n",
    "        self.current_user = None\n",
    "        print(\"You have successfuly logged out!\")\n",
    "        \n",
    "        \n",
    "    #update user attributes\n",
    "    def update_user(self):\n",
    "        \n",
    "        if self.current_user:\n",
    "            print(self.current_user)\n",
    "            new_user = input(\"Please enter the updated username or enter skip to keep current username \").lower()\n",
    "            if new_user != 'skip':\n",
    "                self.current_user.username = new_user\n",
    "            new_pw = input(\"Please enter the updated password or enter skip to keep current password \").lower()\n",
    "            if new_pw != 'skip':\n",
    "                self.current_user.password = new_pw\n",
    "\n",
    "            print(f\"{self.current_user.username}'s info has been updated!\")\n",
    "            \n",
    "        else:\n",
    "            print(\"Please login to update user info\")\n",
    "            self.login_user()\n",
    "            \n",
    "            \n",
    "            \n",
    "    #=========== WATCHLIST FUNCTIONALITY ==============\n",
    "    \n",
    "    #add to our watchlist\n",
    "    def add_to_watchlist(self, query = \"\"):\n",
    "        \n",
    "        if self.current_user:\n",
    "            show = Series()\n",
    "            show.get_info(query)\n",
    "            \n",
    "            self.current_user.watch_list.append(show)\n",
    "            \n",
    "            print(f\"{show.title} has been added to your watchlist\")\n",
    "            \n",
    "        else:\n",
    "            print(\"You must be logged in in order to add to your watchlist\")\n",
    "            self.login_user()\n",
    "            \n",
    "            \n",
    "    #view your watchlist\n",
    "    def view_watchlist(self):\n",
    "        \n",
    "        if self.current_user:\n",
    "            print(f\"Your watchlist has {len(self.current_user.watch_list)} shows in it\")\n",
    "            for series in self.current_user.watch_list:\n",
    "                print(f\"\\n{series} | Episodes: {len(series.episodes)}\")\n",
    "                print(f\"\\nSummary: {series.summary}\")\n",
    "                display(Image(url = series.episodes[0].link))\n",
    "        else:\n",
    "            print(\"You must be logged in in order to delete from your watchlist\")\n",
    "            self.login_user()    \n",
    "            \n",
    "    #delete from your watchlist\n",
    "    def delete(self):\n",
    "        \n",
    "        if self.current_user:\n",
    "            print(\"Your current watchlist: \")\n",
    "            self.view_watchlist()\n",
    "\n",
    "            response = input(\"What would you like to remove from your watchlist? \")\n",
    "\n",
    "            for series in self.current_user.watch_list:\n",
    "                if series.title.lower() == response.lower():\n",
    "                    self.current_user.watch_list.remove(series)\n",
    "                    print(f\"{response.title()} has been removed from your watchlist\")\n",
    "                    break\n",
    "\n",
    "            else:\n",
    "                print(\"That title is not in your watch list\", 404) #404 not found \n",
    "            \n",
    "        else:\n",
    "            print(\"You must be logged in in order to delete from your watchlist\")\n",
    "            self.login_user()\n",
    "            \n",
    "        self.view_watchlist()\n",
    "        \n",
    "        \n",
    "    #choose from our watchlist\n",
    "    def choose_from_watchlist(self):\n",
    "        \n",
    "        if self.current_user:\n",
    "            \n",
    "            self.view_watchlist()\n",
    "            watch = input(\"What would you like to watch? \").strip()\n",
    "            for series in self.current_user.watch_list:\n",
    "                if series.title.lower() == watch.lower():\n",
    "                    series.watch()\n",
    "                    \n",
    "            else:\n",
    "                response = input(f\"{watch} is not curently in your watchlist...would you like to add it? y/n\")\n",
    "                if response in {'yes', 'y', 'yeah', 'ye'}:\n",
    "                    self.add_to_watchlist(watch)\n",
    "                    \n",
    "                    print(\".........\")\n",
    "                    sleep(2)\n",
    "                    print(\".........\")\n",
    "                    self.current_user.watch_list[-1].watch()\n",
    "        \n",
    "        else:\n",
    "            print(\"You must be logged in in order to delete from your watchlist\")\n",
    "            self.login_user()\n",
    "            \n",
    "            \n",
    "            \n",
    "            \n",
    "     #=========== RUN FUNCTIONALITY ==============\n",
    "    \n",
    "    \n",
    "    def run(self):\n",
    "        \n",
    "        \"\"\"\n",
    "        Method on the Theater Class\n",
    "        run() allows user to choose from a series of options to create users\n",
    "        and search for shows and create watchlist \n",
    "        \"\"\"\n",
    "        \n",
    "        display(Image(generic_image))\n",
    "        \n",
    "        if self.users:\n",
    "            self.choose_user()\n",
    "            \n",
    "        else:\n",
    "            self.add_user()\n",
    "            \n",
    "            \n",
    "        print(\"\"\"            \n",
    "            What would you like to do?            \n",
    "            Add - add a new user\n",
    "            Login - login to your profile\n",
    "            Update - update user info\n",
    "            Logout - logout of your profile            \n",
    "            Search - Search for shows\n",
    "            Watch - Pick something from your watchlist            \n",
    "            View - view watch list\n",
    "            Delete - delete from watch list\n",
    "            Quit - close the application           \n",
    "\n",
    "            \"\"\")\n",
    "        \n",
    "        while True: \n",
    "            response = input(\"What would you like to do? (add, login, update, logout, search, watch, view, delete, quit)\").lower().strip()\n",
    "            \n",
    "            \n",
    "            if response == 'add':\n",
    "                self.add_user()\n",
    "                \n",
    "            elif response == 'login':\n",
    "                self.login_user()\n",
    "            elif response == 'update':\n",
    "                self.update_user()\n",
    "            elif response == 'logout':\n",
    "                self.logout()\n",
    "            elif response == 'search':\n",
    "                self.add_to_watchlist()\n",
    "            elif response == 'watch':\n",
    "                self.choose_from_watchlist()\n",
    "            elif response == 'view':\n",
    "                self.view_watchlist()\n",
    "            elif response == 'delete':\n",
    "                self.delete()\n",
    "            elif response == 'quit':\n",
    "                print(f\"Thanks for watching! {self.current_user} We love you! Come back soon :) \")\n",
    "                break\n",
    "            else:\n",
    "                print(\"Invalid Input: please try again!\")"
   ]
  },
  {
   "cell_type": "code",
   "execution_count": 51,
   "metadata": {},
   "outputs": [],
   "source": [
    "codeflix = Theater()"
   ]
  },
  {
   "cell_type": "code",
   "execution_count": 52,
   "metadata": {},
   "outputs": [
    {
     "data": {
      "image/png": "[encoded data removed]",
      "text/plain": [
       "<IPython.core.display.Image object>"
      ]
     },
     "metadata": {},
     "output_type": "display_data"
    },
    {
     "name": "stdin",
     "output_type": "stream",
     "text": [
      "Please enter a username:  Matt LaGreca\n",
      "Please enter a password:  ITG4ever\n"
     ]
    },
    {
     "name": "stdout",
     "output_type": "stream",
     "text": [
      "\n",
      "        1 - Matt Lagreca\n",
      "        pw: rv4T\n",
      "         has been created!!!\n",
      "Log into your account\n"
     ]
    },
    {
     "name": "stdin",
     "output_type": "stream",
     "text": [
      "What is your username?  Matt LaGreca\n",
      "What is your password?  rv4T\n"
     ]
    },
    {
     "name": "stdout",
     "output_type": "stream",
     "text": [
      "Username and/or password is incorrect 409\n",
      "            \n",
      "            What would you like to do?            \n",
      "            Add - add a new user\n",
      "            Login - login to your profile\n",
      "            Update - update user info\n",
      "            Logout - logout of your profile            \n",
      "            Search - Search for shows\n",
      "            Watch - Pick something from your watchlist            \n",
      "            View - view watch list\n",
      "            Delete - delete from watch list\n",
      "            Quit - close the application           \n",
      "\n",
      "            \n"
     ]
    },
    {
     "name": "stdin",
     "output_type": "stream",
     "text": [
      "What would you like to do? (add, login, update, logout, search, watch, view, delete, quit) login\n"
     ]
    },
    {
     "name": "stdout",
     "output_type": "stream",
     "text": [
      "Log into your account\n"
     ]
    },
    {
     "name": "stdin",
     "output_type": "stream",
     "text": [
      "What is your username?  Matt LaGreca\n",
      "What is your password?  ITG4ever\n"
     ]
    },
    {
     "name": "stdout",
     "output_type": "stream",
     "text": [
      "\n",
      "        1 - Matt Lagreca\n",
      "        pw: rv4T\n",
      "         is logged in!\n"
     ]
    },
    {
     "name": "stdin",
     "output_type": "stream",
     "text": [
      "What would you like to do? (add, login, update, logout, search, watch, view, delete, quit) update\n"
     ]
    },
    {
     "name": "stdout",
     "output_type": "stream",
     "text": [
      "\n",
      "        1 - Matt Lagreca\n",
      "        pw: rv4T\n",
      "        \n"
     ]
    },
    {
     "name": "stdin",
     "output_type": "stream",
     "text": [
      "Please enter the updated username or enter skip to keep current username  Matt LaGreca\n",
      "Please enter the updated password or enter skip to keep current password  ITG4ever\n"
     ]
    },
    {
     "name": "stdout",
     "output_type": "stream",
     "text": [
      "matt lagreca's info has been updated!\n"
     ]
    },
    {
     "name": "stdin",
     "output_type": "stream",
     "text": [
      "What would you like to do? (add, login, update, logout, search, watch, view, delete, quit) login\n"
     ]
    },
    {
     "name": "stdout",
     "output_type": "stream",
     "text": [
      "Log into your account\n"
     ]
    },
    {
     "name": "stdin",
     "output_type": "stream",
     "text": [
      "What is your username?  Matt LaGreca\n",
      "What is your password?  ITG4ever\n"
     ]
    },
    {
     "name": "stdout",
     "output_type": "stream",
     "text": [
      "Username and/or password is incorrect 409\n"
     ]
    },
    {
     "name": "stdin",
     "output_type": "stream",
     "text": [
      "What would you like to do? (add, login, update, logout, search, watch, view, delete, quit) quit\n"
     ]
    },
    {
     "name": "stdout",
     "output_type": "stream",
     "text": [
      "Thanks for watching! \n",
      "        1 - Matt Lagreca\n",
      "        pw: itg4ever\n",
      "         We love you! Come back soon :) \n"
     ]
    }
   ],
   "source": [
    "codeflix.run()"
   ]
  },
  {
   "cell_type": "markdown",
   "metadata": {},
   "source": [
    "## Exercise 1"
   ]
  },
  {
   "cell_type": "markdown",
   "metadata": {},
   "source": [
    "<p>Describe in your own words the following concepts and give an analogy tying to a real-world concept."
   ]
  },
  {
   "cell_type": "markdown",
   "metadata": {},
   "source": [
    "#### Difference between a Class and an Object"
   ]
  },
  {
   "cell_type": "code",
   "execution_count": null,
   "metadata": {},
   "outputs": [],
   "source": [
    "The difference between a Class and an Object is that a Class is a category of things and \n",
    "an Object is an instantiation of a Class.  For example, Grocery Store is a class and a WalMart\n",
    "would be an object of the Grocery Store Class\n"
   ]
  },
  {
   "cell_type": "markdown",
   "metadata": {},
   "source": [
    "#### Encapsulation"
   ]
  },
  {
   "cell_type": "code",
   "execution_count": null,
   "metadata": {},
   "outputs": [],
   "source": [
    "Encapsulation is hiding the internal data of an object from the user in varying degrees.\n",
    "So for example, as I person I encapsulate my social security number so as to not be a victim of \n",
    "identity theft, but I have access to that information at all times and am able to differentiate when\n",
    "I should and shouldn't be giving that information out."
   ]
  },
  {
   "cell_type": "markdown",
   "metadata": {},
   "source": [
    "#### Inheritance"
   ]
  },
  {
   "cell_type": "code",
   "execution_count": null,
   "metadata": {},
   "outputs": [],
   "source": [
    "Inheritance is taking attributes and methods from a parent class.  For example: the Animal Class could be \n",
    "inherited to a sub class, like Dog, and would get certain attributes by default (like # of legs or speaking)\n",
    "\n",
    "                                                                            "
   ]
  },
  {
   "cell_type": "markdown",
   "metadata": {},
   "source": [
    "#### Polymorphism"
   ]
  },
  {
   "cell_type": "code",
   "execution_count": null,
   "metadata": {},
   "outputs": [],
   "source": [
    "Using the example above, polymorphism would be taking the speak functionality and changing what it does.\n",
    "For example, my dog goes bark and my cat goes \"gurloog\"; they are both animals but they make very different\n",
    "sounds with their mouths."
   ]
  },
  {
   "cell_type": "markdown",
   "metadata": {},
   "source": [
    "#### Abstraction"
   ]
  },
  {
   "cell_type": "code",
   "execution_count": null,
   "metadata": {},
   "outputs": [],
   "source": [
    "Abstracting is kind of like encapsulation, but instead of hiding the internal data\n",
    "it's the actual information that the user doesn't need to see but is still able to interface\n",
    "with the application just fine.  For example, when logging into a website, the user doesn't need\n",
    "to see the checks in the background happening in order for them to get logged in, they just need\n",
    "to make sure that they provide valid information in order to log in."
   ]
  },
  {
   "cell_type": "markdown",
   "metadata": {},
   "source": [
    "##  Exercise 2 (Optional):\n",
    "Discuss what other classes, methods, or fields (attributes) we could make to improve our streaming service using these principles. <br> <br>\n",
    "Start making a few of them and see where it leads. Make sure you either write out your thoughts in the below cell  or comment where you added code to the above Classes."
   ]
  },
  {
   "cell_type": "code",
   "execution_count": null,
   "metadata": {},
   "outputs": [],
   "source": []
  }
 ],
 "metadata": {
  "kernelspec": {
   "display_name": "Python 3 (ipykernel)",
   "language": "python",
   "name": "python3"
  },
  "language_info": {
   "codemirror_mode": {
    "name": "ipython",
    "version": 3
   },
   "file_extension": ".py",
   "mimetype": "text/x-python",
   "name": "python",
   "nbconvert_exporter": "python",
   "pygments_lexer": "ipython3",
   "version": "3.10.11"
  }
 },
 "nbformat": 4,
 "nbformat_minor": 4
}
